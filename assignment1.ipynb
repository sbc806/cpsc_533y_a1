{
 "cells": [
  {
   "attachments": {},
   "cell_type": "markdown",
   "id": "0f044a62",
   "metadata": {},
   "source": [
    "# Assignment 1: Training a network with PyTorch\n",
    "\n",
    "In this assignment, we will implement a simple neural network with PyTorch. The goal of this assignment is for you to see how a typical neural network training pipeline can be implemented very simply using existing frameworks. In this assignment we will stick to the bare-bones PyTorch, just so that you get a more hands-on experience. There are three main components to this assignment:\n",
    "\n",
    "- **Input pipeline**: A boring but necessary part of the pipeline that you typically have to implement for each dataset. In this assignment we will see how we can load and process our data into the the typical [PyTorch Dataset](https://pytorch.org/tutorials/beginner/basics/data_tutorial.html), so that they can be used easily by the PyTorch Dataloader. This allows us to very easily perform multiprocessing, and even distributed training.\n",
    "\n",
    "- **Model**: In our later assignments we will see how we can compose cutting-edge models to process data. But for this assignment, we will stick to the very basics -- a fully connected network.\n",
    "\n",
    "- **Training and evaluation pipeline**: Another critical component. Unless this part is done properly, you won't be able to see how you are actually doing.\n",
    "\n",
    "### What to do?\n",
    "Walk through this notebook and edit so that it becomes your report. You will need to implement and complete the other Python files that are provided alongside this notebook. See each section below and the corresponding python files for more details. When you are submitting, simply zip your notebook and your python files all together and upload it to canvas. Importantly, do **NOT** include the data files, nor hidden ipython checkpoints in your zip file -- it'll make our hard drives expload.\n",
    "\n",
    "### Due date\n",
    "Deadline: 25/09/2023, 11:59 pm"
   ]
  },
  {
   "attachments": {},
   "cell_type": "markdown",
   "id": "102833af",
   "metadata": {},
   "source": [
    "## Input pipeline (30pts)\n",
    "For this assignment, and our future assignments, we will use a very particular version of the MNIST dataset -- a point cloud version of MNIST (**MNISTPTS**). To create MNISTPTS, what we did was to look at MNIST images and find white pixels, and store their coordinates; see `utils/mnist_helper.py` for details. The scripts for creating this MNISTPTS dataset is already provided, and you are to complete the script `get_dataloader.py` according to the specifications within the Python file so that it runs as below."
   ]
  },
  {
   "cell_type": "code",
   "execution_count": 1,
   "id": "d386820a",
   "metadata": {},
   "outputs": [
    {
     "name": "stdout",
     "output_type": "stream",
     "text": [
      "Processing train set\n",
      "MNIST found in data\n",
      "Processing test set\n",
      "MNIST found in data\n",
      "Done.\n"
     ]
    }
   ],
   "source": [
    "# Preparing the dataset MNISTPTS.\n",
    "import numpy as np\n",
    "from utils.mnist_helper import load_mnist, load_mnistpts, dump_mnistpts\n",
    "\n",
    "data_mnist_dir = 'data' # directory saving raw MNIST image data.\n",
    "data_mnistpts_dir = 'data_dump' # directory saving point cloud.\n",
    "\n",
    "# Downloading and preprocessing MNIST dataset\n",
    "for mode in ['train', 'test']:\n",
    "    print(f'Processing {mode} set')\n",
    "    dump_mnistpts(data_mnist_dir, data_mnistpts_dir, mode)\n",
    "\n",
    "print('Done.')"
   ]
  },
  {
   "cell_type": "code",
   "execution_count": 2,
   "id": "1a11b1c5",
   "metadata": {
    "scrolled": true
   },
   "outputs": [
    {
     "name": "stdout",
     "output_type": "stream",
     "text": [
      "MNIST found in data\n",
      "Image\n"
     ]
    },
    {
     "data": {
      "image/png": "[encoded data removed]",
      "text/plain": [
       "<Figure size 432x288 with 1 Axes>"
      ]
     },
     "metadata": {
      "needs_background": "light"
     },
     "output_type": "display_data"
    },
    {
     "name": "stdout",
     "output_type": "stream",
     "text": [
      "Point clouds\n"
     ]
    },
    {
     "data": {
      "image/png": "[encoded data removed]",
      "text/plain": [
       "<Figure size 432x288 with 1 Axes>"
      ]
     },
     "metadata": {
      "needs_background": "light"
     },
     "output_type": "display_data"
    }
   ],
   "source": [
    "# Visually check the generated point clouds.\n",
    "import matplotlib.pyplot as plt\n",
    "data_mnist_dir = 'data' # directory saving raw MNIST image data.\n",
    "data_mnistpts_dir = 'data_dump' # directory saving point cloud.\n",
    "from utils.mnist_helper import load_mnist, load_mnistpts\n",
    "\n",
    "def vis_pts(pts):\n",
    "    pts = pts.astype(np.float32)\n",
    "    pts_x_max = np.max(pts[:,0])\n",
    "    pts_x_min = np.min(pts[:,0])\n",
    "    pts_y_max = np.max(pts[:,1])\n",
    "    pts_y_min = np.min(pts[:,1])\n",
    "    pts[:,0] = (pts[:,0]-pts_x_min)/(pts_x_max-pts_x_min)\n",
    "    pts[:,1] = (pts[:,1]-pts_y_min)/(pts_y_max-pts_y_min)\n",
    "    plt.plot(pts[:, 0], pts[:, 1], \".b\")\n",
    "    plt.axis('equal')\n",
    "    plt.axis(\"off\")\n",
    "    plt.xlim(0, 1) \n",
    "    plt.ylim(0, 1)\n",
    "    plt.show()\n",
    "    plt.close()\n",
    "\n",
    "def vis_img(img):\n",
    "    plt.axis('equal')\n",
    "    plt.axis(\"off\")\n",
    "    plt.imshow(img)\n",
    "    plt.show()\n",
    "    plt.close()\n",
    "\n",
    "img_list, labels = load_mnist(data_mnist_dir, mode='train')\n",
    "pts_list, labels = load_mnistpts(data_mnistpts_dir, mode='train')\n",
    "\n",
    "idx_to_show = 10000\n",
    "\n",
    "# show image\n",
    "print('Image')\n",
    "vis_img(img_list[idx_to_show])\n",
    "print('Point clouds')\n",
    "# show point clouds\n",
    "vis_pts(pts_list[idx_to_show])\n"
   ]
  },
  {
   "cell_type": "code",
   "execution_count": 3,
   "id": "51e2bf1f",
   "metadata": {},
   "outputs": [
    {
     "name": "stdout",
     "output_type": "stream",
     "text": [
      "loading train datasets.\n",
      "Number of training samples: 48000\n",
      "Number of valid samples: 12000\n",
      "loading test datasets.\n",
      "Number of test samples: 10000\n",
      "loading train datasets.\n",
      "Number of single batch samples: 4\n",
      "key: (<class 'str'>), pc, value: (<class 'torch.Tensor'>, dtype torch.float32), torch.Size([256, 256, 2])\n",
      "key: (<class 'str'>), label, value: (<class 'torch.Tensor'>, dtype torch.int64), torch.Size([256])\n"
     ]
    }
   ],
   "source": [
    "## Get dataloader\n",
    "from get_dataloader import get_dataloader\n",
    "from get_config import get_config\n",
    "\n",
    "config = get_config()\n",
    "\n",
    "# Get data loaders from your implementation\n",
    "loader_tr, loader_va = get_dataloader(config, mode='train')\n",
    "loader_te = get_dataloader(config, mode='test')[0]\n",
    "# set a smaller batch size for single batch dataset\n",
    "import copy\n",
    "config_single_batch = copy.copy(config)\n",
    "config_single_batch.batch_size = 4\n",
    "config_single_batch.random_sample = False\n",
    "loader_single_batch = get_dataloader(config_single_batch, mode='single_batch')[0]\n",
    "\n",
    "# Info of dataset to check that we did everything correctly.\n",
    "data = next(iter(loader_tr))\n",
    "for k, v in data.items():\n",
    "    print(f\"key: ({type(k)}), {k}, value: ({type(v)}, dtype {v.dtype}), {v.shape}\")"
   ]
  },
  {
   "attachments": {},
   "cell_type": "markdown",
   "id": "2b17a92e",
   "metadata": {},
   "source": [
    "## Model (15 pts)\n",
    "Implement a very simple network composed of fully connected layers (FCNet) in `get_model.py`. Note the example output below, which shows the architecture. Note that your model should change according to how you set the configuration, and how you call the network class."
   ]
  },
  {
   "cell_type": "code",
   "execution_count": 4,
   "id": "715a4d87",
   "metadata": {},
   "outputs": [
    {
     "name": "stdout",
     "output_type": "stream",
     "text": [
      "initializing weights in Linear\n",
      "initializing weights in Linear\n",
      "initializing weights in Linear\n",
      "FcNet(\n",
      "  (net): Sequential(\n",
      "    (Linear-0): Linear(in_features=512, out_features=128, bias=True)\n",
      "    (ReLU-0): ReLU(inplace=True)\n",
      "    (Linear-1): Linear(in_features=128, out_features=128, bias=True)\n",
      "    (ReLU-1): ReLU(inplace=True)\n",
      "    (output): Linear(in_features=128, out_features=10, bias=True)\n",
      "  )\n",
      ")\n"
     ]
    }
   ],
   "source": [
    "from get_model import get_model\n",
    "model = get_model(config)\n",
    "print(model)"
   ]
  },
  {
   "attachments": {},
   "cell_type": "markdown",
   "id": "c270d687",
   "metadata": {},
   "source": [
    "# Overfitting on a single batch (15 pts)\n",
    "For modern deep learning pipeline, it will always run if there is no syntax error. Thus it is a good idea to check if your network can be overfitted into a single sample or batch before moving on to the entire dataset. \n",
    "We now train our model on a single batch. Implement the `plot_log` function in  `network.py` so that we can easily visualize within the notebook.\n",
    "\n",
    "#### You should achieve 100 percent accuracy before moving to next part."
   ]
  },
  {
   "cell_type": "code",
   "execution_count": 8,
   "id": "5ab1272a",
   "metadata": {},
   "outputs": [
    {
     "name": "stdout",
     "output_type": "stream",
     "text": [
      "initializing weights in Linear\n",
      "initializing weights in Linear\n",
      "initializing weights in Linear\n",
      "Epoch:   0, loss_avg: 2.37430, val OA: 0.50000, best val OA: 0.50000\n",
      "Epoch:   1, loss_avg: 2.20876, val OA: 1.00000, best val OA: 1.00000\n",
      "Epoch:   2, loss_avg: 2.06999, val OA: 1.00000, best val OA: 1.00000\n",
      "Epoch:   3, loss_avg: 1.94554, val OA: 1.00000, best val OA: 1.00000\n",
      "Epoch:   4, loss_avg: 1.81855, val OA: 1.00000, best val OA: 1.00000\n",
      "Epoch:   5, loss_avg: 1.67732, val OA: 1.00000, best val OA: 1.00000\n",
      "Epoch:   6, loss_avg: 1.52083, val OA: 1.00000, best val OA: 1.00000\n",
      "Epoch:   7, loss_avg: 1.35007, val OA: 1.00000, best val OA: 1.00000\n",
      "Epoch:   8, loss_avg: 1.17173, val OA: 1.00000, best val OA: 1.00000\n",
      "Epoch:   9, loss_avg: 0.99210, val OA: 1.00000, best val OA: 1.00000\n",
      "Epoch:  10, loss_avg: 0.81857, val OA: 1.00000, best val OA: 1.00000\n",
      "Epoch:  11, loss_avg: 0.65776, val OA: 1.00000, best val OA: 1.00000\n",
      "Epoch:  12, loss_avg: 0.51486, val OA: 1.00000, best val OA: 1.00000\n",
      "Epoch:  13, loss_avg: 0.39351, val OA: 1.00000, best val OA: 1.00000\n",
      "Epoch:  14, loss_avg: 0.29431, val OA: 1.00000, best val OA: 1.00000\n",
      "Epoch:  15, loss_avg: 0.21521, val OA: 1.00000, best val OA: 1.00000\n",
      "Epoch:  16, loss_avg: 0.15426, val OA: 1.00000, best val OA: 1.00000\n",
      "Epoch:  17, loss_avg: 0.10905, val OA: 1.00000, best val OA: 1.00000\n",
      "Epoch:  18, loss_avg: 0.07681, val OA: 1.00000, best val OA: 1.00000\n",
      "Epoch:  19, loss_avg: 0.05474, val OA: 1.00000, best val OA: 1.00000\n",
      "Epoch:  20, loss_avg: 0.03967, val OA: 1.00000, best val OA: 1.00000\n",
      "Epoch:  21, loss_avg: 0.02929, val OA: 1.00000, best val OA: 1.00000\n",
      "Epoch:  22, loss_avg: 0.02196, val OA: 1.00000, best val OA: 1.00000\n",
      "Epoch:  23, loss_avg: 0.01669, val OA: 1.00000, best val OA: 1.00000\n",
      "Epoch:  24, loss_avg: 0.01278, val OA: 1.00000, best val OA: 1.00000\n",
      "Epoch:  25, loss_avg: 0.00985, val OA: 1.00000, best val OA: 1.00000\n",
      "Epoch:  26, loss_avg: 0.00765, val OA: 1.00000, best val OA: 1.00000\n",
      "Epoch:  27, loss_avg: 0.00597, val OA: 1.00000, best val OA: 1.00000\n",
      "Epoch:  28, loss_avg: 0.00470, val OA: 1.00000, best val OA: 1.00000\n",
      "Epoch:  29, loss_avg: 0.00373, val OA: 1.00000, best val OA: 1.00000\n",
      "Epoch:  30, loss_avg: 0.00300, val OA: 1.00000, best val OA: 1.00000\n",
      "Epoch:  31, loss_avg: 0.00244, val OA: 1.00000, best val OA: 1.00000\n",
      "Epoch:  32, loss_avg: 0.00201, val OA: 1.00000, best val OA: 1.00000\n",
      "Epoch:  33, loss_avg: 0.00168, val OA: 1.00000, best val OA: 1.00000\n",
      "Epoch:  34, loss_avg: 0.00142, val OA: 1.00000, best val OA: 1.00000\n",
      "Epoch:  35, loss_avg: 0.00122, val OA: 1.00000, best val OA: 1.00000\n",
      "Epoch:  36, loss_avg: 0.00106, val OA: 1.00000, best val OA: 1.00000\n",
      "Epoch:  37, loss_avg: 0.00093, val OA: 1.00000, best val OA: 1.00000\n",
      "Epoch:  38, loss_avg: 0.00083, val OA: 1.00000, best val OA: 1.00000\n",
      "Epoch:  39, loss_avg: 0.00074, val OA: 1.00000, best val OA: 1.00000\n",
      "Epoch:  40, loss_avg: 0.00067, val OA: 1.00000, best val OA: 1.00000\n",
      "Epoch:  41, loss_avg: 0.00061, val OA: 1.00000, best val OA: 1.00000\n",
      "Epoch:  42, loss_avg: 0.00056, val OA: 1.00000, best val OA: 1.00000\n",
      "Epoch:  43, loss_avg: 0.00052, val OA: 1.00000, best val OA: 1.00000\n",
      "Epoch:  44, loss_avg: 0.00049, val OA: 1.00000, best val OA: 1.00000\n",
      "Epoch:  45, loss_avg: 0.00046, val OA: 1.00000, best val OA: 1.00000\n",
      "Epoch:  46, loss_avg: 0.00043, val OA: 1.00000, best val OA: 1.00000\n",
      "Epoch:  47, loss_avg: 0.00041, val OA: 1.00000, best val OA: 1.00000\n",
      "Epoch:  48, loss_avg: 0.00039, val OA: 1.00000, best val OA: 1.00000\n",
      "Epoch:  49, loss_avg: 0.00037, val OA: 1.00000, best val OA: 1.00000\n"
     ]
    },
    {
     "data": {
      "image/png": "[encoded data removed]",
      "text/plain": [
       "<Figure size 432x288 with 2 Axes>"
      ]
     },
     "metadata": {
      "needs_background": "light"
     },
     "output_type": "display_data"
    },
    {
     "name": "stdout",
     "output_type": "stream",
     "text": [
      "Overfit OA: 1.0\n"
     ]
    }
   ],
   "source": [
    "from network import Network\n",
    "model = get_model(config)\n",
    "net = Network(model, config_single_batch) \n",
    "\n",
    "# Training and validation\n",
    "net.train(loader_single_batch,loader_single_batch)\n",
    "net.plot_log()\n",
    "\n",
    "# Testing on same subset.\n",
    "oa = net.test(loader_single_batch, loader_single_batch)\n",
    "print(f'Overfit OA: {oa.item()}')"
   ]
  },
  {
   "attachments": {},
   "cell_type": "markdown",
   "id": "5c285ce2",
   "metadata": {},
   "source": [
    "# Tuning your network (20 pts)\n",
    "Congrates! You manage to fit your network to a single batch. Now you can tune all the things to improve your network performance. You may change the initialization method, apply some tricks on data preprocessing, try differnet learning rate, or simply increase your network capacity. Basically, you can do anything except sorting the pointcloud (see next question) or using PyTorch default initialization method (if you do not manually initialize weights, PyTorch will initialize it for you using a default method). **Please write down all the things you did to improve the performance in the cell below**\n",
    "### The marking for this part is based on your network performance (you can train your network up to 50 epoches): score = min(20,max(OA*100-15,0))"
   ]
  },
  {
   "attachments": {},
   "cell_type": "markdown",
   "id": "4dd64ead",
   "metadata": {},
   "source": [
    "## Write down things you did to improve performace in this cell:\n",
    "**YOUR ANSWER HERE**"
   ]
  },
  {
   "cell_type": "code",
   "execution_count": 6,
   "id": "49c55d55",
   "metadata": {
    "scrolled": true
   },
   "outputs": [
    {
     "name": "stdout",
     "output_type": "stream",
     "text": [
      "initializing weights in Linear\n",
      "initializing weights in Linear\n",
      "initializing weights in Linear\n",
      "Epoch:   0, loss_avg: 2.25906, val OA: 0.16367, best val OA: 0.16367\n",
      "Epoch:   1, loss_avg: 2.18836, val OA: 0.20917, best val OA: 0.20917\n",
      "Epoch:   2, loss_avg: 2.05828, val OA: 0.25333, best val OA: 0.25333\n",
      "Epoch:   3, loss_avg: 1.97945, val OA: 0.27133, best val OA: 0.27133\n",
      "Epoch:   4, loss_avg: 1.94194, val OA: 0.28692, best val OA: 0.28692\n",
      "Epoch:   5, loss_avg: 1.92051, val OA: 0.29400, best val OA: 0.29400\n",
      "Epoch:   6, loss_avg: 1.90091, val OA: 0.29867, best val OA: 0.29867\n",
      "Epoch:   7, loss_avg: 1.88912, val OA: 0.30808, best val OA: 0.30808\n",
      "Epoch:   8, loss_avg: 1.87748, val OA: 0.31708, best val OA: 0.31708\n",
      "Epoch:   9, loss_avg: 1.86659, val OA: 0.31308, best val OA: 0.31708\n",
      "Epoch:  10, loss_avg: 1.85636, val OA: 0.31525, best val OA: 0.31708\n",
      "Epoch:  11, loss_avg: 1.84671, val OA: 0.32283, best val OA: 0.32283\n",
      "Epoch:  12, loss_avg: 1.83120, val OA: 0.33083, best val OA: 0.33083\n",
      "Epoch:  13, loss_avg: 1.81979, val OA: 0.33292, best val OA: 0.33292\n",
      "Epoch:  14, loss_avg: 1.80615, val OA: 0.33183, best val OA: 0.33292\n",
      "Epoch:  15, loss_avg: 1.79634, val OA: 0.34467, best val OA: 0.34467\n",
      "Epoch:  16, loss_avg: 1.78365, val OA: 0.33992, best val OA: 0.34467\n",
      "Epoch:  17, loss_avg: 1.78079, val OA: 0.34683, best val OA: 0.34683\n",
      "Epoch:  18, loss_avg: 1.76914, val OA: 0.34708, best val OA: 0.34708\n",
      "Epoch:  19, loss_avg: 1.77185, val OA: 0.34225, best val OA: 0.34708\n",
      "Epoch:  20, loss_avg: 1.76389, val OA: 0.34383, best val OA: 0.34708\n",
      "Epoch:  21, loss_avg: 1.75743, val OA: 0.34725, best val OA: 0.34725\n",
      "Epoch:  22, loss_avg: 1.75465, val OA: 0.35042, best val OA: 0.35042\n",
      "Epoch:  23, loss_avg: 1.74765, val OA: 0.34767, best val OA: 0.35042\n",
      "Epoch:  24, loss_avg: 1.75288, val OA: 0.34925, best val OA: 0.35042\n",
      "Epoch:  25, loss_avg: 1.74453, val OA: 0.35258, best val OA: 0.35258\n",
      "Epoch:  26, loss_avg: 1.74768, val OA: 0.35133, best val OA: 0.35258\n",
      "Epoch:  27, loss_avg: 1.73924, val OA: 0.35350, best val OA: 0.35350\n",
      "Epoch:  28, loss_avg: 1.74035, val OA: 0.34842, best val OA: 0.35350\n",
      "Epoch:  29, loss_avg: 1.73949, val OA: 0.35692, best val OA: 0.35692\n",
      "Epoch:  30, loss_avg: 1.73560, val OA: 0.35642, best val OA: 0.35692\n",
      "Epoch:  31, loss_avg: 1.73485, val OA: 0.35533, best val OA: 0.35692\n",
      "Epoch:  32, loss_avg: 1.73207, val OA: 0.34550, best val OA: 0.35692\n",
      "Epoch:  33, loss_avg: 1.73621, val OA: 0.35700, best val OA: 0.35700\n",
      "Epoch:  34, loss_avg: 1.73311, val OA: 0.35633, best val OA: 0.35700\n",
      "Epoch:  35, loss_avg: 1.72729, val OA: 0.35008, best val OA: 0.35700\n",
      "Epoch:  36, loss_avg: 1.72919, val OA: 0.35750, best val OA: 0.35750\n",
      "Epoch:  37, loss_avg: 1.72895, val OA: 0.35733, best val OA: 0.35750\n",
      "Epoch:  38, loss_avg: 1.72890, val OA: 0.35942, best val OA: 0.35942\n",
      "Epoch:  39, loss_avg: 1.72471, val OA: 0.35992, best val OA: 0.35992\n",
      "Epoch:  40, loss_avg: 1.72016, val OA: 0.35692, best val OA: 0.35992\n",
      "Epoch:  41, loss_avg: 1.72574, val OA: 0.35750, best val OA: 0.35992\n",
      "Epoch:  42, loss_avg: 1.72060, val OA: 0.35958, best val OA: 0.35992\n",
      "Epoch:  43, loss_avg: 1.72590, val OA: 0.35908, best val OA: 0.35992\n",
      "Epoch:  44, loss_avg: 1.72117, val OA: 0.36008, best val OA: 0.36008\n",
      "Epoch:  45, loss_avg: 1.72062, val OA: 0.35875, best val OA: 0.36008\n",
      "Epoch:  46, loss_avg: 1.71979, val OA: 0.35683, best val OA: 0.36008\n",
      "Epoch:  47, loss_avg: 1.71907, val OA: 0.35533, best val OA: 0.36008\n",
      "Epoch:  48, loss_avg: 1.72108, val OA: 0.35983, best val OA: 0.36008\n",
      "Epoch:  49, loss_avg: 1.71656, val OA: 0.35800, best val OA: 0.36008\n"
     ]
    },
    {
     "data": {
      "image/png": "[encoded data removed]",
      "text/plain": [
       "<Figure size 432x288 with 2 Axes>"
      ]
     },
     "metadata": {
      "needs_background": "light"
     },
     "output_type": "display_data"
    },
    {
     "name": "stdout",
     "output_type": "stream",
     "text": [
      "restoring logs/best_model.pth\n",
      "Test OA: 0.3675000071525574\n"
     ]
    }
   ],
   "source": [
    "from network import Network\n",
    "\n",
    "model = get_model(config)\n",
    "net = Network(model, config) \n",
    "\n",
    "# Training on train and validation set.\n",
    "net.train(loader_tr, loader_va)\n",
    "net.plot_log()\n",
    "\n",
    "# Testing on test set.\n",
    "oa = net.test(loader_te)\n",
    "print(f'Test OA: {oa.item()}')\n"
   ]
  },
  {
   "attachments": {},
   "cell_type": "markdown",
   "id": "2af2ea3f",
   "metadata": {},
   "source": [
    "## Unordered nature of point clouds (20pts)\n",
    "We can improve the model by turning on the ordering option in our network configuration. Implement this ordering option, where we order the points along the x axis (10 Pts); see `get_model.py`. Also provide an explanation on why this could be the case (10 Pts -- **last cell of this notebook**)."
   ]
  },
  {
   "cell_type": "code",
   "execution_count": 7,
   "id": "6e9dfba4",
   "metadata": {},
   "outputs": [
    {
     "name": "stdout",
     "output_type": "stream",
     "text": [
      "initializing weights in Linear\n",
      "initializing weights in Linear\n",
      "initializing weights in Linear\n",
      "Epoch:   0, loss_avg: 1.38893, val OA: 0.63383, best val OA: 0.63383\n",
      "Epoch:   1, loss_avg: 0.93916, val OA: 0.71250, best val OA: 0.71250\n",
      "Epoch:   2, loss_avg: 0.78727, val OA: 0.73417, best val OA: 0.73417\n",
      "Epoch:   3, loss_avg: 0.69519, val OA: 0.76958, best val OA: 0.76958\n",
      "Epoch:   4, loss_avg: 0.62922, val OA: 0.78275, best val OA: 0.78275\n",
      "Epoch:   5, loss_avg: 0.58353, val OA: 0.80292, best val OA: 0.80292\n",
      "Epoch:   6, loss_avg: 0.54766, val OA: 0.81267, best val OA: 0.81267\n",
      "Epoch:   7, loss_avg: 0.52387, val OA: 0.82550, best val OA: 0.82550\n",
      "Epoch:   8, loss_avg: 0.50415, val OA: 0.81842, best val OA: 0.82550\n",
      "Epoch:   9, loss_avg: 0.48218, val OA: 0.83250, best val OA: 0.83250\n",
      "Epoch:  10, loss_avg: 0.46814, val OA: 0.83850, best val OA: 0.83850\n",
      "Epoch:  11, loss_avg: 0.45582, val OA: 0.83358, best val OA: 0.83850\n",
      "Epoch:  12, loss_avg: 0.44533, val OA: 0.83783, best val OA: 0.83850\n",
      "Epoch:  13, loss_avg: 0.43372, val OA: 0.84408, best val OA: 0.84408\n",
      "Epoch:  14, loss_avg: 0.42457, val OA: 0.85000, best val OA: 0.85000\n",
      "Epoch:  15, loss_avg: 0.41352, val OA: 0.85250, best val OA: 0.85250\n",
      "Epoch:  16, loss_avg: 0.40635, val OA: 0.85717, best val OA: 0.85717\n",
      "Epoch:  17, loss_avg: 0.39778, val OA: 0.85383, best val OA: 0.85717\n",
      "Epoch:  18, loss_avg: 0.39151, val OA: 0.85333, best val OA: 0.85717\n",
      "Epoch:  19, loss_avg: 0.38595, val OA: 0.86108, best val OA: 0.86108\n",
      "Epoch:  20, loss_avg: 0.38058, val OA: 0.86367, best val OA: 0.86367\n",
      "Epoch:  21, loss_avg: 0.37412, val OA: 0.85517, best val OA: 0.86367\n",
      "Epoch:  22, loss_avg: 0.36924, val OA: 0.86417, best val OA: 0.86417\n",
      "Epoch:  23, loss_avg: 0.36101, val OA: 0.86683, best val OA: 0.86683\n",
      "Epoch:  24, loss_avg: 0.35764, val OA: 0.86692, best val OA: 0.86692\n",
      "Epoch:  25, loss_avg: 0.35265, val OA: 0.86333, best val OA: 0.86692\n",
      "Epoch:  26, loss_avg: 0.34883, val OA: 0.86708, best val OA: 0.86708\n",
      "Epoch:  27, loss_avg: 0.34202, val OA: 0.87000, best val OA: 0.87000\n",
      "Epoch:  28, loss_avg: 0.33741, val OA: 0.86942, best val OA: 0.87000\n",
      "Epoch:  29, loss_avg: 0.33546, val OA: 0.87183, best val OA: 0.87183\n",
      "Epoch:  30, loss_avg: 0.33301, val OA: 0.86242, best val OA: 0.87183\n",
      "Epoch:  31, loss_avg: 0.32597, val OA: 0.87025, best val OA: 0.87183\n",
      "Epoch:  32, loss_avg: 0.32438, val OA: 0.87600, best val OA: 0.87600\n",
      "Epoch:  33, loss_avg: 0.32064, val OA: 0.87367, best val OA: 0.87600\n",
      "Epoch:  34, loss_avg: 0.31650, val OA: 0.87658, best val OA: 0.87658\n",
      "Epoch:  35, loss_avg: 0.31171, val OA: 0.87575, best val OA: 0.87658\n",
      "Epoch:  36, loss_avg: 0.31266, val OA: 0.87742, best val OA: 0.87742\n",
      "Epoch:  37, loss_avg: 0.30491, val OA: 0.88067, best val OA: 0.88067\n",
      "Epoch:  38, loss_avg: 0.30393, val OA: 0.88050, best val OA: 0.88067\n",
      "Epoch:  39, loss_avg: 0.30238, val OA: 0.87925, best val OA: 0.88067\n",
      "Epoch:  40, loss_avg: 0.29975, val OA: 0.88292, best val OA: 0.88292\n",
      "Epoch:  41, loss_avg: 0.29724, val OA: 0.87592, best val OA: 0.88292\n",
      "Epoch:  42, loss_avg: 0.29277, val OA: 0.88192, best val OA: 0.88292\n",
      "Epoch:  43, loss_avg: 0.29396, val OA: 0.88317, best val OA: 0.88317\n",
      "Epoch:  44, loss_avg: 0.28456, val OA: 0.87908, best val OA: 0.88317\n",
      "Epoch:  45, loss_avg: 0.28883, val OA: 0.88175, best val OA: 0.88317\n",
      "Epoch:  46, loss_avg: 0.28258, val OA: 0.87850, best val OA: 0.88317\n",
      "Epoch:  47, loss_avg: 0.28222, val OA: 0.88775, best val OA: 0.88775\n",
      "Epoch:  48, loss_avg: 0.27968, val OA: 0.88308, best val OA: 0.88775\n",
      "Epoch:  49, loss_avg: 0.27728, val OA: 0.88217, best val OA: 0.88775\n"
     ]
    },
    {
     "data": {
      "image/png": "[encoded data removed]",
      "text/plain": [
       "<Figure size 432x288 with 2 Axes>"
      ]
     },
     "metadata": {
      "needs_background": "light"
     },
     "output_type": "display_data"
    },
    {
     "name": "stdout",
     "output_type": "stream",
     "text": [
      "restoring logs/best_model.pth\n",
      "Test OA: 0.8889999985694885\n"
     ]
    }
   ],
   "source": [
    "from network import Network\n",
    "config.order_pts = True # Ordering points by setting this flag as True.\n",
    "model = get_model(config)\n",
    "net = Network(model, config) \n",
    "\n",
    "# Training on train and validation set.\n",
    "net.train(loader_tr, loader_va)\n",
    "net.plot_log()\n",
    "\n",
    "# Testing on test set.\n",
    "oa = net.test(loader_te)\n",
    "print(f'Test OA: {oa.item()}')"
   ]
  },
  {
   "cell_type": "markdown",
   "id": "86161245",
   "metadata": {},
   "source": [
    "## Why ordering?\n",
    "\n",
    "**YOUR ANSWER HERE**"
   ]
  }
 ],
 "metadata": {
  "kernelspec": {
   "display_name": "535",
   "language": "python",
   "name": "python3"
  },
  "language_info": {
   "codemirror_mode": {
    "name": "ipython",
    "version": 3
   },
   "file_extension": ".py",
   "mimetype": "text/x-python",
   "name": "python",
   "nbconvert_exporter": "python",
   "pygments_lexer": "ipython3",
   "version": "3.7.15"
  },
  "vscode": {
   "interpreter": {
    "hash": "242f12fa550d0ccfe3ca7655d729793299ae3bdcdb3f141d2b61d28ad8eb16a9"
   }
  }
 },
 "nbformat": 4,
 "nbformat_minor": 5
}
